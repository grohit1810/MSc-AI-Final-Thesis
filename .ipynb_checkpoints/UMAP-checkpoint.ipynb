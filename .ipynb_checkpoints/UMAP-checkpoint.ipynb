{
 "cells": [
  {
   "cell_type": "code",
   "execution_count": 1,
   "metadata": {},
   "outputs": [
    {
     "name": "stderr",
     "output_type": "stream",
     "text": [
      "C:\\Users\\grohi\\Anaconda3\\lib\\site-packages\\umap\\plot.py:29: UserWarning: The umap.plot package requires extra plotting libraries to be installed.\n",
      "    You can install these via pip using\n",
      "\n",
      "    pip install umap-learn[plot]\n",
      "\n",
      "    or via conda using\n",
      "\n",
      "     conda install pandas matplotlib datashader bokeh holoviews colorcet\n",
      "    \n",
      "  \"\"\"\n"
     ]
    },
    {
     "ename": "ImportError",
     "evalue": "umap.plot requires pandas matplotlib datashader bokeh holoviews and colorcet to be installed",
     "output_type": "error",
     "traceback": [
      "\u001b[1;31m---------------------------------------------------------------------------\u001b[0m",
      "\u001b[1;31mImportError\u001b[0m                               Traceback (most recent call last)",
      "\u001b[1;32m<ipython-input-1-b184b1f9846a>\u001b[0m in \u001b[0;36m<module>\u001b[1;34m\u001b[0m\n\u001b[0;32m      1\u001b[0m \u001b[1;32mimport\u001b[0m \u001b[0mumap\u001b[0m\u001b[1;33m\u001b[0m\u001b[1;33m\u001b[0m\u001b[0m\n\u001b[1;32m----> 2\u001b[1;33m \u001b[1;32mimport\u001b[0m \u001b[0mumap\u001b[0m\u001b[1;33m.\u001b[0m\u001b[0mplot\u001b[0m\u001b[1;33m\u001b[0m\u001b[1;33m\u001b[0m\u001b[0m\n\u001b[0m\u001b[0;32m      3\u001b[0m \u001b[1;32mimport\u001b[0m \u001b[0mpandas\u001b[0m \u001b[1;32mas\u001b[0m \u001b[0mpd\u001b[0m\u001b[1;33m\u001b[0m\u001b[1;33m\u001b[0m\u001b[0m\n",
      "\u001b[1;32m~\\Anaconda3\\lib\\site-packages\\umap\\plot.py\u001b[0m in \u001b[0;36m<module>\u001b[1;34m\u001b[0m\n\u001b[0;32m     32\u001b[0m         \u001b[1;34m\"umap.plot requires pandas matplotlib datashader bokeh holoviews and colorcet to be \"\u001b[0m\u001b[1;33m\u001b[0m\u001b[1;33m\u001b[0m\u001b[0m\n\u001b[0;32m     33\u001b[0m         \u001b[1;34m\"installed\"\u001b[0m\u001b[1;33m\u001b[0m\u001b[1;33m\u001b[0m\u001b[0m\n\u001b[1;32m---> 34\u001b[1;33m     ) from None\n\u001b[0m\u001b[0;32m     35\u001b[0m \u001b[1;33m\u001b[0m\u001b[0m\n\u001b[0;32m     36\u001b[0m \u001b[1;32mimport\u001b[0m \u001b[0msklearn\u001b[0m\u001b[1;33m.\u001b[0m\u001b[0mdecomposition\u001b[0m\u001b[1;33m\u001b[0m\u001b[1;33m\u001b[0m\u001b[0m\n",
      "\u001b[1;31mImportError\u001b[0m: umap.plot requires pandas matplotlib datashader bokeh holoviews and colorcet to be installed"
     ]
    }
   ],
   "source": [
    "import umap\n",
    "import umap.plot\n",
    "import pandas as pd"
   ]
  },
  {
   "cell_type": "code",
   "execution_count": 18,
   "metadata": {},
   "outputs": [],
   "source": [
    "reducer = umap.UMAP(n_components=32)"
   ]
  },
  {
   "cell_type": "code",
   "execution_count": 25,
   "metadata": {
    "scrolled": true
   },
   "outputs": [
    {
     "data": {
      "text/plain": [
       "array([-1.9205e-01, -1.2603e-01,  4.9014e-02,  2.4392e-01,  2.4700e-01,\n",
       "        1.2749e-01,  2.2307e-01,  2.7180e-01,  2.2372e-01,  1.8881e-01,\n",
       "        1.1715e-01, -1.1702e-02, -1.3105e-01, -1.8599e-01, -3.0012e-02,\n",
       "        2.6429e-01,  3.8041e-01,  3.6469e-01,  3.6025e-01,  3.0793e-01,\n",
       "        3.4317e-01,  4.5761e-01,  5.7492e-01,  6.5663e-01,  7.6701e-01,\n",
       "        8.5108e-01,  9.9002e-01,  1.2097e+00,  1.5090e+00,  1.8810e+00,\n",
       "        2.2868e+00,  2.6556e+00,  2.9569e+00,  3.2218e+00,  3.4305e+00,\n",
       "        3.4414e+00,  3.1861e+00,  2.8218e+00,  2.4708e+00,  2.1781e+00,\n",
       "        1.9118e+00,  1.6339e+00,  1.3385e+00,  1.0952e+00,  9.2539e-01,\n",
       "        7.2542e-01,  4.9482e-01,  2.1838e-01, -2.1812e-03, -9.7199e-02,\n",
       "       -2.3459e-01, -4.0344e-01, -5.8357e-01, -5.5651e-01, -5.7039e-01,\n",
       "       -6.0025e-01, -6.0514e-01, -5.6445e-01, -5.6864e-01, -6.0665e-01,\n",
       "       -6.0731e-01, -5.8755e-01, -6.2098e-01, -6.5936e-01, -6.3329e-01,\n",
       "       -6.1500e-01, -6.3572e-01, -6.2112e-01, -5.9763e-01, -6.1123e-01,\n",
       "       -6.7259e-01, -6.7061e-01, -6.4554e-01, -5.9636e-01, -5.6838e-01,\n",
       "       -5.9209e-01, -6.1637e-01, -5.9351e-01, -5.7736e-01, -5.9507e-01,\n",
       "       -5.9010e-01, -5.8730e-01, -5.5395e-01, -6.2686e-01, -8.0935e-01,\n",
       "       -8.6571e-01, -8.3050e-01, -6.7263e-01, -4.9081e-01, -4.4194e-01,\n",
       "       -3.9658e-01, -2.6325e-01, -2.1210e-01, -1.0941e-01, -2.7232e-02,\n",
       "       -2.9065e-02, -5.3600e-02, -6.6595e-02, -7.4022e-02, -8.4012e-02,\n",
       "       -1.1976e-01, -2.0886e-01, -4.1100e-01, -5.9275e-01, -7.5049e-01,\n",
       "       -9.4288e-01, -1.0985e+00, -1.1749e+00, -1.1095e+00, -9.3807e-01,\n",
       "       -7.4446e-01, -4.8988e-01, -2.4343e-01, -6.7983e-02,  1.2039e-02,\n",
       "        7.6161e-02,  9.0566e-02,  8.8418e-02,  1.1129e-01,  1.3720e-01,\n",
       "        1.8845e-01,  2.6259e-01,  3.4181e-01,  4.4163e-01,  4.8829e-01,\n",
       "        4.3713e-01,  4.1391e-01,  4.0415e-01,  3.6292e-01,  3.4810e-01,\n",
       "        3.1109e-01,  1.9846e-01,  9.2752e-02,  7.1266e-02,  1.3118e-01,\n",
       "        1.6803e-01,  1.3694e-01,  1.5560e-01,  1.1353e-01,  1.0899e-01,\n",
       "        2.5978e-01,  3.6623e-01,  4.1206e-01,  5.0376e-01,  6.3985e-01,\n",
       "        8.5757e-01,  1.1339e+00,  1.4785e+00,  1.9168e+00,  2.3484e+00,\n",
       "        2.6187e+00,  2.7550e+00,  2.7238e+00,  2.4940e+00,  2.1381e+00,\n",
       "        1.8114e+00,  1.5998e+00,  1.3017e+00,  9.7285e-01,  7.4020e-01,\n",
       "        4.4856e-01, -1.1007e-02, -2.6354e-01, -2.9898e-01, -3.7225e-01,\n",
       "       -5.2300e-01, -6.6962e-01, -7.7798e-01, -8.1581e-01, -8.7816e-01,\n",
       "       -9.1980e-01, -8.5600e-01, -8.1104e-01, -8.2513e-01, -8.3690e-01,\n",
       "       -8.3545e-01, -8.3275e-01, -8.3965e-01, -8.7679e-01, -8.9105e-01,\n",
       "       -8.3992e-01, -8.0710e-01, -8.2575e-01, -8.2236e-01, -8.3796e-01,\n",
       "       -8.7300e-01, -8.9704e-01, -9.0471e-01, -8.8039e-01, -8.4689e-01,\n",
       "       -8.2313e-01, -8.3859e-01, -8.8172e-01, -9.0199e-01, -8.5743e-01,\n",
       "       -7.8843e-01, -7.7990e-01, -8.3170e-01, -7.6532e-01, -6.9008e-01,\n",
       "       -6.7605e-01, -6.9557e-01, -7.0231e-01, -6.7348e-01, -6.0688e-01,\n",
       "       -5.9556e-01, -5.5812e-01, -5.4258e-01, -2.8558e-01, -1.4151e-01,\n",
       "       -2.2019e-01, -2.3533e-01, -2.3409e-01, -3.0876e-01, -4.4052e-01,\n",
       "       -4.6962e-01, -5.2546e-01, -7.1689e-01, -9.5124e-01, -1.1587e+00,\n",
       "       -1.3443e+00, -1.4099e+00, -1.4028e+00, -1.3314e+00, -1.1514e+00,\n",
       "       -9.0088e-01, -7.2865e-01, -5.9721e-01, -5.0606e-01, -4.3595e-01,\n",
       "       -3.4545e-01, -2.7352e-01, -1.7442e-01, -1.2402e-01, -2.8716e-02,\n",
       "        1.0919e-01,  1.7119e-01,  1.5570e-01,  1.0845e-01,  1.9737e-02,\n",
       "       -4.5133e-02, -4.5453e-02, -1.0985e-02, -2.7608e-02, -7.1735e-03,\n",
       "        5.7197e-02,  5.7384e-02,  2.5174e-02, -6.1720e-02, -1.5676e-01,\n",
       "       -1.4365e-01, -1.1138e-01, -9.3866e-02, -5.2489e-02, -8.3745e-02,\n",
       "       -1.8541e-01, -1.2281e-01,  9.1164e-02,  3.3093e-01,  6.7260e-01,\n",
       "        1.0823e+00,  1.4486e+00,  1.7817e+00,  2.0686e+00,  2.2935e+00,\n",
       "        2.5196e+00,  2.6249e+00,  2.4840e+00,  2.2139e+00,  1.9275e+00,\n",
       "        1.6510e+00,  1.3337e+00,  1.0254e+00,  6.9285e-01,  3.4737e-01,\n",
       "        7.8441e-02, -1.0815e-01, -3.7702e-01, -6.4843e-01, -8.3863e-01,\n",
       "       -1.0679e+00, -1.1932e+00, -1.1874e+00, -1.1544e+00, -1.1168e+00,\n",
       "       -1.1300e+00, -1.0913e+00, -1.0873e+00, -1.1705e+00, -1.2014e+00,\n",
       "       -1.1041e+00, -1.1155e+00, -1.1780e+00, -1.1673e+00, -1.1309e+00,\n",
       "       -1.1366e+00, -1.1377e+00, -1.1635e+00, -1.2332e+00, -1.3136e+00,\n",
       "       -1.2975e+00, -1.2041e+00, -1.1870e+00, -1.1795e+00, -1.1850e+00,\n",
       "       -1.1892e+00, -1.1374e+00, -1.1064e+00, -1.1997e+00, -1.1005e+00,\n",
       "       -9.9754e-01, -1.0374e+00, -1.9205e-01, -1.2603e-01,  4.9014e-02,\n",
       "        2.4392e-01,  2.4700e-01,  1.2749e-01,  2.2307e-01,  2.7180e-01,\n",
       "        2.2372e-01,  1.8881e-01,  1.1715e-01, -1.1702e-02, -1.3105e-01,\n",
       "       -1.8599e-01, -3.0012e-02,  2.6429e-01,  3.8041e-01,  3.6469e-01,\n",
       "        3.6025e-01,  3.0793e-01,  3.4317e-01,  4.5761e-01,  5.7492e-01,\n",
       "        6.5663e-01,  7.6701e-01,  8.5108e-01,  9.9002e-01,  1.2097e+00,\n",
       "        1.5090e+00,  1.8810e+00,  2.2868e+00])"
      ]
     },
     "execution_count": 25,
     "metadata": {},
     "output_type": "execute_result"
    }
   ],
   "source": [
    "data = ['Dataset/ToeSegmentation2_TRAIN', 'Dataset/ToeSegmentation2_TEST']\n",
    "full_train_data = pd.read_csv(data[0], header = None)\n",
    "full_test_data = pd.read_csv(data[1], header = None)\n",
    "\n",
    "test_dataset = full_train_data.iloc[:,range(1,full_train_data.shape[1])] #traindatawithoutlabel\n",
    "label_test = full_train_data.iloc[:,0] #trainlabel\n",
    "\n",
    "train_dataset = full_test_data.iloc[:,range(1,full_test_data.shape[1])] #testdatawithoutlabel\n",
    "label_train = full_test_data.iloc[:,0] #testlabel\n",
    "\n",
    "train_dataset = train_dataset.values\n",
    "label_train = label_train.values\n",
    "\n",
    "test_dataset=test_dataset.values\n",
    "label_test=label_test.values\n",
    "\n",
    "# train_dataset[0]"
   ]
  },
  {
   "cell_type": "code",
   "execution_count": 29,
   "metadata": {},
   "outputs": [],
   "source": [
    "train_embedding = reducer.fit_transform(test_dataset)\n",
    "# embedding.shape\n"
   ]
  },
  {
   "cell_type": "code",
   "execution_count": 30,
   "metadata": {},
   "outputs": [],
   "source": [
    "test_embedding = reducer.fit_transform(train_dataset)\n",
    "# embedding.shape"
   ]
  },
  {
   "cell_type": "code",
   "execution_count": 34,
   "metadata": {},
   "outputs": [],
   "source": [
    "X_train = train_embedding\n",
    "y_train = label_test\n",
    "X_test = test_embedding\n",
    "y_test = label_train"
   ]
  },
  {
   "cell_type": "code",
   "execution_count": 35,
   "metadata": {},
   "outputs": [
    {
     "name": "stdout",
     "output_type": "stream",
     "text": [
      "(36, 32) (130,) (130, 32) (36,)\n"
     ]
    }
   ],
   "source": [
    "print(train_embedding.shape,label_train.shape, test_embedding.shape, label_test.shape)"
   ]
  },
  {
   "cell_type": "code",
   "execution_count": 36,
   "metadata": {},
   "outputs": [
    {
     "name": "stdout",
     "output_type": "stream",
     "text": [
      "Accuracy: 0.8153846153846154\n"
     ]
    }
   ],
   "source": [
    "from sklearn import svm\n",
    "from sklearn import metrics\n",
    "\n",
    "#Create a svm Classifier\n",
    "clf = svm.SVC(kernel='linear') # Linear Kernel\n",
    "#Train the model using the training sets\n",
    "clf.fit(X_train, y_train)\n",
    "#Predict the response for test dataset\n",
    "y_pred = clf.predict(X_test)\n",
    "# Model Accuracy: how often is the classifier correct?\n",
    "print(\"Accuracy:\",metrics.accuracy_score(y_test, y_pred))"
   ]
  },
  {
   "cell_type": "code",
   "execution_count": 37,
   "metadata": {},
   "outputs": [
    {
     "name": "stdout",
     "output_type": "stream",
     "text": [
      "Accuracy: 0.8153846153846154\n"
     ]
    }
   ],
   "source": [
    "from sklearn.linear_model import LogisticRegression\n",
    "clf = LogisticRegression(random_state=0).fit(X_train, y_train)\n",
    "#Predict the response for test dataset\n",
    "y_pred = clf.predict(X_test)\n",
    "# Model Accuracy: how often is the classifier correct?\n",
    "print(\"Accuracy:\",metrics.accuracy_score(y_test, y_pred))"
   ]
  },
  {
   "cell_type": "code",
   "execution_count": 43,
   "metadata": {},
   "outputs": [
    {
     "name": "stdout",
     "output_type": "stream",
     "text": [
      "Accuracy: 0.8153846153846154\n"
     ]
    }
   ],
   "source": [
    "from sklearn.neighbors import KNeighborsClassifier\n",
    "clf = KNeighborsClassifier(n_neighbors=4)\n",
    "#Train the model using the training sets\n",
    "clf.fit(X_train, y_train)\n",
    "#Predict the response for test dataset\n",
    "y_pred = clf.predict(X_test)\n",
    "# Model Accuracy: how often is the classifier correct?\n",
    "print(\"Accuracy:\",metrics.accuracy_score(y_test, y_pred))"
   ]
  }
 ],
 "metadata": {
  "kernelspec": {
   "display_name": "Python 3",
   "language": "python",
   "name": "python3"
  },
  "language_info": {
   "codemirror_mode": {
    "name": "ipython",
    "version": 3
   },
   "file_extension": ".py",
   "mimetype": "text/x-python",
   "name": "python",
   "nbconvert_exporter": "python",
   "pygments_lexer": "ipython3",
   "version": "3.7.7"
  }
 },
 "nbformat": 4,
 "nbformat_minor": 4
}
