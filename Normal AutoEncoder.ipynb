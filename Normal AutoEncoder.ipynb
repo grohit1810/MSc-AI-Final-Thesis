{
 "cells": [
  {
   "cell_type": "code",
   "execution_count": 1,
   "metadata": {},
   "outputs": [
    {
     "name": "stderr",
     "output_type": "stream",
     "text": [
      "Using TensorFlow backend.\n",
      "C:\\Users\\grohi\\Anaconda3\\lib\\site-packages\\tensorflow\\python\\framework\\dtypes.py:516: FutureWarning: Passing (type, 1) or '1type' as a synonym of type is deprecated; in a future version of numpy, it will be understood as (type, (1,)) / '(1,)type'.\n",
      "  _np_qint8 = np.dtype([(\"qint8\", np.int8, 1)])\n",
      "C:\\Users\\grohi\\Anaconda3\\lib\\site-packages\\tensorflow\\python\\framework\\dtypes.py:517: FutureWarning: Passing (type, 1) or '1type' as a synonym of type is deprecated; in a future version of numpy, it will be understood as (type, (1,)) / '(1,)type'.\n",
      "  _np_quint8 = np.dtype([(\"quint8\", np.uint8, 1)])\n",
      "C:\\Users\\grohi\\Anaconda3\\lib\\site-packages\\tensorflow\\python\\framework\\dtypes.py:518: FutureWarning: Passing (type, 1) or '1type' as a synonym of type is deprecated; in a future version of numpy, it will be understood as (type, (1,)) / '(1,)type'.\n",
      "  _np_qint16 = np.dtype([(\"qint16\", np.int16, 1)])\n",
      "C:\\Users\\grohi\\Anaconda3\\lib\\site-packages\\tensorflow\\python\\framework\\dtypes.py:519: FutureWarning: Passing (type, 1) or '1type' as a synonym of type is deprecated; in a future version of numpy, it will be understood as (type, (1,)) / '(1,)type'.\n",
      "  _np_quint16 = np.dtype([(\"quint16\", np.uint16, 1)])\n",
      "C:\\Users\\grohi\\Anaconda3\\lib\\site-packages\\tensorflow\\python\\framework\\dtypes.py:520: FutureWarning: Passing (type, 1) or '1type' as a synonym of type is deprecated; in a future version of numpy, it will be understood as (type, (1,)) / '(1,)type'.\n",
      "  _np_qint32 = np.dtype([(\"qint32\", np.int32, 1)])\n",
      "C:\\Users\\grohi\\Anaconda3\\lib\\site-packages\\tensorflow\\python\\framework\\dtypes.py:525: FutureWarning: Passing (type, 1) or '1type' as a synonym of type is deprecated; in a future version of numpy, it will be understood as (type, (1,)) / '(1,)type'.\n",
      "  np_resource = np.dtype([(\"resource\", np.ubyte, 1)])\n",
      "C:\\Users\\grohi\\Anaconda3\\lib\\site-packages\\tensorboard\\compat\\tensorflow_stub\\dtypes.py:541: FutureWarning: Passing (type, 1) or '1type' as a synonym of type is deprecated; in a future version of numpy, it will be understood as (type, (1,)) / '(1,)type'.\n",
      "  _np_qint8 = np.dtype([(\"qint8\", np.int8, 1)])\n",
      "C:\\Users\\grohi\\Anaconda3\\lib\\site-packages\\tensorboard\\compat\\tensorflow_stub\\dtypes.py:542: FutureWarning: Passing (type, 1) or '1type' as a synonym of type is deprecated; in a future version of numpy, it will be understood as (type, (1,)) / '(1,)type'.\n",
      "  _np_quint8 = np.dtype([(\"quint8\", np.uint8, 1)])\n",
      "C:\\Users\\grohi\\Anaconda3\\lib\\site-packages\\tensorboard\\compat\\tensorflow_stub\\dtypes.py:543: FutureWarning: Passing (type, 1) or '1type' as a synonym of type is deprecated; in a future version of numpy, it will be understood as (type, (1,)) / '(1,)type'.\n",
      "  _np_qint16 = np.dtype([(\"qint16\", np.int16, 1)])\n",
      "C:\\Users\\grohi\\Anaconda3\\lib\\site-packages\\tensorboard\\compat\\tensorflow_stub\\dtypes.py:544: FutureWarning: Passing (type, 1) or '1type' as a synonym of type is deprecated; in a future version of numpy, it will be understood as (type, (1,)) / '(1,)type'.\n",
      "  _np_quint16 = np.dtype([(\"quint16\", np.uint16, 1)])\n",
      "C:\\Users\\grohi\\Anaconda3\\lib\\site-packages\\tensorboard\\compat\\tensorflow_stub\\dtypes.py:545: FutureWarning: Passing (type, 1) or '1type' as a synonym of type is deprecated; in a future version of numpy, it will be understood as (type, (1,)) / '(1,)type'.\n",
      "  _np_qint32 = np.dtype([(\"qint32\", np.int32, 1)])\n",
      "C:\\Users\\grohi\\Anaconda3\\lib\\site-packages\\tensorboard\\compat\\tensorflow_stub\\dtypes.py:550: FutureWarning: Passing (type, 1) or '1type' as a synonym of type is deprecated; in a future version of numpy, it will be understood as (type, (1,)) / '(1,)type'.\n",
      "  np_resource = np.dtype([(\"resource\", np.ubyte, 1)])\n"
     ]
    },
    {
     "name": "stdout",
     "output_type": "stream",
     "text": [
      "Populating the interactive namespace from numpy and matplotlib\n"
     ]
    }
   ],
   "source": [
    "from keras.layers import Input, Dense, Conv1D, MaxPooling1D, UpSampling1D, BatchNormalization, LSTM, RepeatVector, Reshape, Flatten\n",
    "from keras.models import Model\n",
    "from keras.models import model_from_json\n",
    "from keras import regularizers\n",
    "import keras.backend as K\n",
    "import datetime\n",
    "import time\n",
    "import requests as req\n",
    "import json\n",
    "import pandas as pd\n",
    "import pickle\n",
    "import os\n",
    "import numpy as np\n",
    "from sklearn.preprocessing import MinMaxScaler\n",
    "from tqdm import tqdm\n",
    "from mpl_toolkits.mplot3d import Axes3D\n",
    "import matplotlib.pyplot as plt\n",
    "%pylab inline"
   ]
  },
  {
   "cell_type": "code",
   "execution_count": 2,
   "metadata": {},
   "outputs": [],
   "source": [
    "data = ['Dataset/HandOutlines_TRAIN', 'Dataset/HandOutlines_TEST']\n",
    "full_train_data = pd.read_csv(data[0], header = None)\n",
    "full_test_data = pd.read_csv(data[1], header = None)\n",
    "\n",
    "train_dataset = full_train_data.iloc[:,range(1,full_train_data.shape[1])] #traindatawithoutlabel\n",
    "label_train = full_train_data.iloc[:,0] #trainlabel\n",
    "\n",
    "test_dataset = full_test_data.iloc[:,range(1,full_test_data.shape[1])] #testdatawithoutlabel\n",
    "label_test = full_test_data.iloc[:,0] #testlabel\n",
    "\n",
    "train_dataset = train_dataset.values\n",
    "label_train = label_train.values\n",
    "\n",
    "test_dataset=test_dataset.values\n",
    "label_test=label_test.values\n",
    "\n",
    "test_data = np.expand_dims(test_dataset, axis=2)\n",
    "train_dataset = np.expand_dims(train_dataset, axis=2)\n",
    "\n"
   ]
  },
  {
   "cell_type": "code",
   "execution_count": 3,
   "metadata": {},
   "outputs": [],
   "source": [
    "encoding_dim = 2\n",
    "window_length = train_dataset.shape[1]\n",
    "epochs = 1\n",
    "test_samples = train_dataset.shape[0]"
   ]
  },
  {
   "cell_type": "markdown",
   "metadata": {},
   "source": [
    "The architechture of the following model was built from the inspiration of code provided by Stefano Mauceri. "
   ]
  },
  {
   "cell_type": "code",
   "execution_count": 6,
   "metadata": {
    "scrolled": true
   },
   "outputs": [
    {
     "name": "stdout",
     "output_type": "stream",
     "text": [
      "Model: \"model_6\"\n",
      "_________________________________________________________________\n",
      "Layer (type)                 Output Shape              Param #   \n",
      "=================================================================\n",
      "input_3 (InputLayer)         (None, 2709, 1)           0         \n",
      "_________________________________________________________________\n",
      "conv1d_11 (Conv1D)           (None, 2709, 32)          256       \n",
      "_________________________________________________________________\n",
      "max_pooling1d_5 (MaxPooling1 (None, 903, 32)           0         \n",
      "_________________________________________________________________\n",
      "conv1d_12 (Conv1D)           (None, 903, 1)            97        \n",
      "_________________________________________________________________\n",
      "max_pooling1d_6 (MaxPooling1 (None, 129, 1)            0         \n",
      "_________________________________________________________________\n",
      "flatten_3 (Flatten)          (None, 129)               0         \n",
      "_________________________________________________________________\n",
      "dense_5 (Dense)              (None, 192)               24960     \n",
      "_________________________________________________________________\n",
      "dense_6 (Dense)              (None, 129)               24897     \n",
      "_________________________________________________________________\n",
      "reshape_3 (Reshape)          (None, 129, 1)            0         \n",
      "_________________________________________________________________\n",
      "conv1d_13 (Conv1D)           (None, 129, 1)            2         \n",
      "_________________________________________________________________\n",
      "up_sampling1d_5 (UpSampling1 (None, 903, 1)            0         \n",
      "_________________________________________________________________\n",
      "conv1d_14 (Conv1D)           (None, 903, 32)           64        \n",
      "_________________________________________________________________\n",
      "up_sampling1d_6 (UpSampling1 (None, 2709, 32)          0         \n",
      "_________________________________________________________________\n",
      "conv1d_15 (Conv1D)           (None, 2709, 1)           65        \n",
      "=================================================================\n",
      "Total params: 50,341\n",
      "Trainable params: 50,341\n",
      "Non-trainable params: 0\n",
      "_________________________________________________________________\n",
      "Train on 1000 samples, validate on 370 samples\n",
      "Epoch 1/20\n",
      "1000/1000 [==============================] - 40s 40ms/step - loss: 0.6782 - val_loss: 0.6624\n",
      "Epoch 2/20\n",
      "1000/1000 [==============================] - 18s 18ms/step - loss: 0.6478 - val_loss: 0.6328\n",
      "Epoch 3/20\n",
      "1000/1000 [==============================] - 16s 16ms/step - loss: 0.6189 - val_loss: 0.6047\n",
      "Epoch 4/20\n",
      "1000/1000 [==============================] - 17s 17ms/step - loss: 0.5915 - val_loss: 0.5779\n",
      "Epoch 5/20\n",
      "1000/1000 [==============================] - 18s 18ms/step - loss: 0.5654 - val_loss: 0.5525\n",
      "Epoch 6/20\n",
      "1000/1000 [==============================] - 20s 20ms/step - loss: 0.5405 - val_loss: 0.5283\n",
      "Epoch 7/20\n",
      "1000/1000 [==============================] - 17s 17ms/step - loss: 0.5169 - val_loss: 0.5052\n",
      "Epoch 8/20\n",
      "1000/1000 [==============================] - 19s 19ms/step - loss: 0.4945 - val_loss: 0.4834\n",
      "Epoch 9/20\n",
      "1000/1000 [==============================] - 18s 18ms/step - loss: 0.4731 - val_loss: 0.4626\n",
      "Epoch 10/20\n",
      "1000/1000 [==============================] - 20s 20ms/step - loss: 0.4528 - val_loss: 0.4428\n",
      "Epoch 11/20\n",
      "1000/1000 [==============================] - 18s 18ms/step - loss: 0.4335 - val_loss: 0.4240\n",
      "Epoch 12/20\n",
      "1000/1000 [==============================] - 19s 19ms/step - loss: 0.4152 - val_loss: 0.4061\n",
      "Epoch 13/20\n",
      "1000/1000 [==============================] - 19s 19ms/step - loss: 0.3977 - val_loss: 0.3891\n",
      "Epoch 14/20\n",
      "1000/1000 [==============================] - 20s 20ms/step - loss: 0.3812 - val_loss: 0.3730\n",
      "Epoch 15/20\n",
      "1000/1000 [==============================] - 18s 18ms/step - loss: 0.3654 - val_loss: 0.3576\n",
      "Epoch 16/20\n",
      "1000/1000 [==============================] - 19s 19ms/step - loss: 0.3504 - val_loss: 0.3430\n",
      "Epoch 17/20\n",
      "1000/1000 [==============================] - 20s 20ms/step - loss: 0.3361 - val_loss: 0.3291\n",
      "Epoch 18/20\n",
      "1000/1000 [==============================] - 19s 19ms/step - loss: 0.3226 - val_loss: 0.3158\n",
      "Epoch 19/20\n",
      "1000/1000 [==============================] - 20s 20ms/step - loss: 0.3096 - val_loss: 0.3032\n",
      "Epoch 20/20\n",
      "1000/1000 [==============================] - 20s 20ms/step - loss: 0.2973 - val_loss: 0.2913\n"
     ]
    }
   ],
   "source": [
    "input_window = Input(shape=(window_length,1))\n",
    "x = Conv1D(32, 7, activation=\"relu\", padding=\"same\")(input_window) # 10 dims\n",
    "#x = BatchNormalization()(x)\n",
    "x = MaxPooling1D(3, padding=\"same\")(x) # 5 dims\n",
    "x = Conv1D(1, 3, activation=\"relu\", padding=\"same\")(x) # 5 dims\n",
    "#x = BatchNormalization()(x)\n",
    "encoded = MaxPooling1D(7, padding=\"same\")(x) # 3 dims\n",
    "\n",
    "encoder = Model(input_window, encoded)\n",
    "\n",
    "# 3 dimensions in the encoded layer\n",
    "\n",
    "x = Flatten()(encoded)\n",
    "x = Dense(192, activation='relu')(x)\n",
    "# x = Dense(32, activation='relu')(encoded)\n",
    "# x = Dense(32, activation='relu')(x)\n",
    "x = Dense(129, activation ='relu')(x)\n",
    "x = Reshape((129,1))(x)\n",
    "\n",
    "\n",
    "x = Conv1D(1, 1, activation=\"relu\", padding=\"same\")(x) # 3 dims\n",
    "#x = BatchNormalization()(x)\n",
    "x = UpSampling1D(7)(x) # 6 dims\n",
    "x = Conv1D(32, 1, activation='relu')(x) # 5 dims\n",
    "#x = BatchNormalization()(x)\n",
    "x = UpSampling1D(3)(x) # 10 dims\n",
    "decoded = Conv1D(1, 2, activation='sigmoid', padding='same')(x) # 10 dims\n",
    "autoencoder = Model(input_window, decoded)\n",
    "autoencoder.summary()\n",
    "\n",
    "autoencoder.compile(optimizer='adam', loss='binary_crossentropy')\n",
    "history = autoencoder.fit(test_data, test_data,\n",
    "                epochs=20,\n",
    "                batch_size=16,\n",
    "                shuffle=True,\n",
    "                validation_data=(train_dataset, train_dataset))\n",
    "\n",
    "decoded_stocks = autoencoder.predict(train_dataset)"
   ]
  },
  {
   "cell_type": "markdown",
   "metadata": {},
   "source": [
    "Get reproduction error\n",
    "GunPoint : 0.48691671698691363"
   ]
  },
  {
   "cell_type": "code",
   "execution_count": 10,
   "metadata": {},
   "outputs": [
    {
     "name": "stdout",
     "output_type": "stream",
     "text": [
      "(370, 2709, 1) (370, 2709, 1)\n",
      "0.5925943710614429\n"
     ]
    }
   ],
   "source": [
    "print(decoded_stocks.shape,train_dataset.shape)\n",
    "# print(np.absolute(x_test_deep[0]))\n",
    "# print(np.absolute(decoded_stocks[0]))\n",
    "# print(len(x_test_deep[0]))\n",
    "def repr_error(actual, predicted):\n",
    "    final_err = 0\n",
    "    for i in range(len(actual)):\n",
    "        err = np.sum(np.absolute(np.absolute(actual[i]) - np.absolute(predicted[i])))\n",
    "        err = err / len(actual[i])\n",
    "        final_err += err\n",
    "    final_err = final_err / len(actual)\n",
    "    return final_err\n",
    "# final_test = np.sum(np.absolute(np.absolute(x_test_deep[0]) - np.absolute(decoded_stocks[0])))\n",
    "# print(final_test/150)\n",
    "print(repr_error(train_dataset, decoded_stocks))"
   ]
  },
  {
   "cell_type": "code",
   "execution_count": null,
   "metadata": {},
   "outputs": [],
   "source": [
    "import pickle\n",
    "# open a file, where you ant to store the data\n",
    "file = open('Deep_forda.pkl', 'wb')\n",
    "\n",
    "# dump information to that file\n",
    "pickle.dump(autoencoder, file)"
   ]
  },
  {
   "cell_type": "code",
   "execution_count": 15,
   "metadata": {},
   "outputs": [
    {
     "data": {
      "text/plain": [
       "<keras.layers.core.Reshape at 0x208f1f5f4c8>"
      ]
     },
     "execution_count": 15,
     "metadata": {},
     "output_type": "execute_result"
    }
   ],
   "source": [
    "autoencoder.layers[8]"
   ]
  },
  {
   "cell_type": "markdown",
   "metadata": {},
   "source": [
    "Get embedding values for test data"
   ]
  },
  {
   "cell_type": "code",
   "execution_count": 20,
   "metadata": {},
   "outputs": [
    {
     "name": "stdout",
     "output_type": "stream",
     "text": [
      "(1000, 129, 1) (370, 129, 1)\n"
     ]
    }
   ],
   "source": [
    "autoencoder.layers[8].name = \"embed_0\"\n",
    "layer_output=autoencoder.get_layer('embed_0').output\n",
    "intermediate_model=Model(inputs=autoencoder.input,outputs=layer_output)\n",
    "normal_test=intermediate_model.predict(test_data)\n",
    "normal_train=intermediate_model.predict(train_dataset)\n",
    "print(normal_test.shape,normal_train.shape)"
   ]
  },
  {
   "cell_type": "code",
   "execution_count": null,
   "metadata": {},
   "outputs": [],
   "source": [
    "file = open('Embed_forda.pkl', 'wb')\n",
    "\n",
    "nor_info = {}\n",
    "nor_info['X_train'] = normal_train\n",
    "nor_info['y_train'] = label_test\n",
    "nor_info['X_test'] = normal_test\n",
    "nor_info['y_test'] = label_train\n",
    "\n",
    "# dump information to that file\n",
    "pickle.dump(nor_info, file)"
   ]
  },
  {
   "cell_type": "code",
   "execution_count": 22,
   "metadata": {},
   "outputs": [
    {
     "data": {
      "text/plain": [
       "150"
      ]
     },
     "execution_count": 22,
     "metadata": {},
     "output_type": "execute_result"
    }
   ],
   "source": [
    "# normal_test[1]\n",
    "# dot1 = normal_test[1][normal_test[1] != 0] #0\n",
    "# dot2 = normal_test[2][normal_test[2] != 0] #1\n",
    "dot1_y = normal_test[1]\n",
    "dot2_y = normal_test[2]\n",
    "dot1_x = list(range(encoding_dim))\n",
    "dot2_x = list(range(encoding_dim))\n",
    "# print(dot1_y)\n",
    "for i in range(encoding_dim):\n",
    "    if dot1_y[i] == 0:\n",
    "        dot1_x.remove(i)\n",
    "#         dot1_y = np.delete(dot1_y,i,0)\n",
    "    if dot2_y[i] == 0:\n",
    "        dot2_x.remove(i)\n",
    "#         dot2_y = np.delete(dot2_y,i,0)\n",
    "dot1_y = normal_test[1][normal_test[1] != 0] #0\n",
    "dot2_y = normal_test[2][normal_test[2] != 0] #1\n",
    "x,y=[], []\n",
    "x.append(dot1_x)\n",
    "x.append(dot2_x)\n",
    "y.append(dot1_y)\n",
    "y.append(dot2_y)\n",
    "\n",
    "# print(len(dot1),len(dot2))\n",
    "# label_train\n",
    "len(label_test)"
   ]
  },
  {
   "cell_type": "code",
   "execution_count": 241,
   "metadata": {},
   "outputs": [
    {
     "data": {
      "text/plain": [
       "150"
      ]
     },
     "execution_count": 241,
     "metadata": {},
     "output_type": "execute_result"
    }
   ],
   "source": [
    "dat = []\n",
    "fin_label = []\n",
    "count1, count2 = 150, 150\n",
    "for i in range(len(label_train)):\n",
    "    if normal_test[i][0] != 0 and normal_test[i][1] != 0:\n",
    "        if(label_train[i] == 1 and count1 > 0):\n",
    "            dat.append([normal_test[i][0],normal_test[i][0]])\n",
    "            fin_label.append(1)\n",
    "            count1-=1\n",
    "        if(label_train[i] == -1 and count2 > 0):\n",
    "            dat.append([normal_test[i][0],normal_test[i][0]])\n",
    "            fin_label.append(0)\n",
    "            count2-=1\n",
    "            \n",
    "# for i in range(len(label_train)):\n",
    "#     if normal_test[i][0] != 0 and normal_test[i][1] != 0:\n",
    "# #         if(label_train[i] == 1 and count1 > 0):\n",
    "#         dat.append([normal_test[i][0],normal_test[i][0]])\n",
    "#         fin_label.append(label_train[i])\n",
    "# #             count1-=1\n",
    "# #         if(label_train[i] == 0 and count2 > 0):\n",
    "# #             dat.append([normal_test[i][0],normal_test[i][0]])\n",
    "# #             fin_label.append(0)\n",
    "# #             count2-=1\n",
    "            \n",
    "for i in range(len(label_test)):\n",
    "    if normal_train[i][0] != 0 and normal_train[i][1] != 0:\n",
    "        if(label_test[i] == 1 and count1 > 0):\n",
    "            dat.append([normal_train[i][0],normal_train[i][0]])\n",
    "            fin_label.append(1)\n",
    "            count1-=1\n",
    "        if(label_test[i] == -1 and count2 > 0):\n",
    "            dat.append([normal_train[i][0],normal_train[i][0]])\n",
    "            fin_label.append(0)\n",
    "            count2-=1\n",
    "dat = np.array(dat)\n",
    "count = fin_label.count(0)\n",
    "fin_label = np.array(fin_label)\n",
    "# data, label = [], []\n",
    "dat\n",
    "# label_test\n",
    "count\n",
    "\n",
    "# print(data,labels)"
   ]
  },
  {
   "cell_type": "code",
   "execution_count": 188,
   "metadata": {},
   "outputs": [],
   "source": [
    "import umap\n",
    "import umap.plot"
   ]
  },
  {
   "cell_type": "code",
   "execution_count": 243,
   "metadata": {},
   "outputs": [
    {
     "data": {
      "text/plain": [
       "<matplotlib.axes._subplots.AxesSubplot at 0x22b2c0822c8>"
      ]
     },
     "execution_count": 243,
     "metadata": {},
     "output_type": "execute_result"
    },
    {
     "data": {
      "image/png": "[encoded data removed]",
      "text/plain": [
       "<Figure size 800x800 with 1 Axes>"
      ]
     },
     "metadata": {},
     "output_type": "display_data"
    }
   ],
   "source": [
    "mapper = umap.UMAP().fit(dat)\n",
    "umap.plot.points(mapper, labels = fin_label, theme='red')"
   ]
  },
  {
   "cell_type": "code",
   "execution_count": 186,
   "metadata": {},
   "outputs": [
    {
     "ename": "TypeError",
     "evalue": "Tensor objects are only iterable when eager execution is enabled. To iterate over this tensor use tf.map_fn.",
     "output_type": "error",
     "traceback": [
      "\u001b[1;31m---------------------------------------------------------------------------\u001b[0m",
      "\u001b[1;31mTypeError\u001b[0m                                 Traceback (most recent call last)",
      "\u001b[1;32m<ipython-input-186-4cf771aa411c>\u001b[0m in \u001b[0;36m<module>\u001b[1;34m\u001b[0m\n\u001b[0;32m     10\u001b[0m \u001b[1;31m#     scale = 200.0 * np.random.rand(n)\u001b[0m\u001b[1;33m\u001b[0m\u001b[1;33m\u001b[0m\u001b[1;33m\u001b[0m\u001b[0m\n\u001b[0;32m     11\u001b[0m     ax.scatter(x1, y1, c=color,  label='Class: '+str(i),\n\u001b[1;32m---> 12\u001b[1;33m                alpha=0.3, edgecolors='none')\n\u001b[0m\u001b[0;32m     13\u001b[0m     \u001b[0mi\u001b[0m\u001b[1;33m+=\u001b[0m\u001b[1;36m1\u001b[0m\u001b[1;33m\u001b[0m\u001b[1;33m\u001b[0m\u001b[0m\n\u001b[0;32m     14\u001b[0m \u001b[1;33m\u001b[0m\u001b[0m\n",
      "\u001b[1;32m~\\Anaconda3\\lib\\site-packages\\matplotlib\\__init__.py\u001b[0m in \u001b[0;36minner\u001b[1;34m(ax, data, *args, **kwargs)\u001b[0m\n\u001b[0;32m   1563\u001b[0m     \u001b[1;32mdef\u001b[0m \u001b[0minner\u001b[0m\u001b[1;33m(\u001b[0m\u001b[0max\u001b[0m\u001b[1;33m,\u001b[0m \u001b[1;33m*\u001b[0m\u001b[0margs\u001b[0m\u001b[1;33m,\u001b[0m \u001b[0mdata\u001b[0m\u001b[1;33m=\u001b[0m\u001b[1;32mNone\u001b[0m\u001b[1;33m,\u001b[0m \u001b[1;33m**\u001b[0m\u001b[0mkwargs\u001b[0m\u001b[1;33m)\u001b[0m\u001b[1;33m:\u001b[0m\u001b[1;33m\u001b[0m\u001b[1;33m\u001b[0m\u001b[0m\n\u001b[0;32m   1564\u001b[0m         \u001b[1;32mif\u001b[0m \u001b[0mdata\u001b[0m \u001b[1;32mis\u001b[0m \u001b[1;32mNone\u001b[0m\u001b[1;33m:\u001b[0m\u001b[1;33m\u001b[0m\u001b[1;33m\u001b[0m\u001b[0m\n\u001b[1;32m-> 1565\u001b[1;33m             \u001b[1;32mreturn\u001b[0m \u001b[0mfunc\u001b[0m\u001b[1;33m(\u001b[0m\u001b[0max\u001b[0m\u001b[1;33m,\u001b[0m \u001b[1;33m*\u001b[0m\u001b[0mmap\u001b[0m\u001b[1;33m(\u001b[0m\u001b[0msanitize_sequence\u001b[0m\u001b[1;33m,\u001b[0m \u001b[0margs\u001b[0m\u001b[1;33m)\u001b[0m\u001b[1;33m,\u001b[0m \u001b[1;33m**\u001b[0m\u001b[0mkwargs\u001b[0m\u001b[1;33m)\u001b[0m\u001b[1;33m\u001b[0m\u001b[1;33m\u001b[0m\u001b[0m\n\u001b[0m\u001b[0;32m   1566\u001b[0m \u001b[1;33m\u001b[0m\u001b[0m\n\u001b[0;32m   1567\u001b[0m         \u001b[0mbound\u001b[0m \u001b[1;33m=\u001b[0m \u001b[0mnew_sig\u001b[0m\u001b[1;33m.\u001b[0m\u001b[0mbind\u001b[0m\u001b[1;33m(\u001b[0m\u001b[0max\u001b[0m\u001b[1;33m,\u001b[0m \u001b[1;33m*\u001b[0m\u001b[0margs\u001b[0m\u001b[1;33m,\u001b[0m \u001b[1;33m**\u001b[0m\u001b[0mkwargs\u001b[0m\u001b[1;33m)\u001b[0m\u001b[1;33m\u001b[0m\u001b[1;33m\u001b[0m\u001b[0m\n",
      "\u001b[1;32m~\\Anaconda3\\lib\\site-packages\\matplotlib\\cbook\\deprecation.py\u001b[0m in \u001b[0;36mwrapper\u001b[1;34m(*args, **kwargs)\u001b[0m\n\u001b[0;32m    356\u001b[0m                 \u001b[1;34mf\"%(removal)s.  If any parameter follows {name!r}, they \"\u001b[0m\u001b[1;33m\u001b[0m\u001b[1;33m\u001b[0m\u001b[0m\n\u001b[0;32m    357\u001b[0m                 f\"should be pass as keyword, not positionally.\")\n\u001b[1;32m--> 358\u001b[1;33m         \u001b[1;32mreturn\u001b[0m \u001b[0mfunc\u001b[0m\u001b[1;33m(\u001b[0m\u001b[1;33m*\u001b[0m\u001b[0margs\u001b[0m\u001b[1;33m,\u001b[0m \u001b[1;33m**\u001b[0m\u001b[0mkwargs\u001b[0m\u001b[1;33m)\u001b[0m\u001b[1;33m\u001b[0m\u001b[1;33m\u001b[0m\u001b[0m\n\u001b[0m\u001b[0;32m    359\u001b[0m \u001b[1;33m\u001b[0m\u001b[0m\n\u001b[0;32m    360\u001b[0m     \u001b[1;32mreturn\u001b[0m \u001b[0mwrapper\u001b[0m\u001b[1;33m\u001b[0m\u001b[1;33m\u001b[0m\u001b[0m\n",
      "\u001b[1;32m~\\Anaconda3\\lib\\site-packages\\matplotlib\\axes\\_axes.py\u001b[0m in \u001b[0;36mscatter\u001b[1;34m(self, x, y, s, c, marker, cmap, norm, vmin, vmax, alpha, linewidths, verts, edgecolors, plotnonfinite, **kwargs)\u001b[0m\n\u001b[0;32m   4381\u001b[0m \u001b[1;33m\u001b[0m\u001b[0m\n\u001b[0;32m   4382\u001b[0m         \u001b[0mself\u001b[0m\u001b[1;33m.\u001b[0m\u001b[0m_process_unit_info\u001b[0m\u001b[1;33m(\u001b[0m\u001b[0mxdata\u001b[0m\u001b[1;33m=\u001b[0m\u001b[0mx\u001b[0m\u001b[1;33m,\u001b[0m \u001b[0mydata\u001b[0m\u001b[1;33m=\u001b[0m\u001b[0my\u001b[0m\u001b[1;33m,\u001b[0m \u001b[0mkwargs\u001b[0m\u001b[1;33m=\u001b[0m\u001b[0mkwargs\u001b[0m\u001b[1;33m)\u001b[0m\u001b[1;33m\u001b[0m\u001b[1;33m\u001b[0m\u001b[0m\n\u001b[1;32m-> 4383\u001b[1;33m         \u001b[0mx\u001b[0m \u001b[1;33m=\u001b[0m \u001b[0mself\u001b[0m\u001b[1;33m.\u001b[0m\u001b[0mconvert_xunits\u001b[0m\u001b[1;33m(\u001b[0m\u001b[0mx\u001b[0m\u001b[1;33m)\u001b[0m\u001b[1;33m\u001b[0m\u001b[1;33m\u001b[0m\u001b[0m\n\u001b[0m\u001b[0;32m   4384\u001b[0m         \u001b[0my\u001b[0m \u001b[1;33m=\u001b[0m \u001b[0mself\u001b[0m\u001b[1;33m.\u001b[0m\u001b[0mconvert_yunits\u001b[0m\u001b[1;33m(\u001b[0m\u001b[0my\u001b[0m\u001b[1;33m)\u001b[0m\u001b[1;33m\u001b[0m\u001b[1;33m\u001b[0m\u001b[0m\n\u001b[0;32m   4385\u001b[0m \u001b[1;33m\u001b[0m\u001b[0m\n",
      "\u001b[1;32m~\\Anaconda3\\lib\\site-packages\\matplotlib\\artist.py\u001b[0m in \u001b[0;36mconvert_xunits\u001b[1;34m(self, x)\u001b[0m\n\u001b[0;32m    176\u001b[0m         \u001b[1;32mif\u001b[0m \u001b[0max\u001b[0m \u001b[1;32mis\u001b[0m \u001b[1;32mNone\u001b[0m \u001b[1;32mor\u001b[0m \u001b[0max\u001b[0m\u001b[1;33m.\u001b[0m\u001b[0mxaxis\u001b[0m \u001b[1;32mis\u001b[0m \u001b[1;32mNone\u001b[0m\u001b[1;33m:\u001b[0m\u001b[1;33m\u001b[0m\u001b[1;33m\u001b[0m\u001b[0m\n\u001b[0;32m    177\u001b[0m             \u001b[1;32mreturn\u001b[0m \u001b[0mx\u001b[0m\u001b[1;33m\u001b[0m\u001b[1;33m\u001b[0m\u001b[0m\n\u001b[1;32m--> 178\u001b[1;33m         \u001b[1;32mreturn\u001b[0m \u001b[0max\u001b[0m\u001b[1;33m.\u001b[0m\u001b[0mxaxis\u001b[0m\u001b[1;33m.\u001b[0m\u001b[0mconvert_units\u001b[0m\u001b[1;33m(\u001b[0m\u001b[0mx\u001b[0m\u001b[1;33m)\u001b[0m\u001b[1;33m\u001b[0m\u001b[1;33m\u001b[0m\u001b[0m\n\u001b[0m\u001b[0;32m    179\u001b[0m \u001b[1;33m\u001b[0m\u001b[0m\n\u001b[0;32m    180\u001b[0m     \u001b[1;32mdef\u001b[0m \u001b[0mconvert_yunits\u001b[0m\u001b[1;33m(\u001b[0m\u001b[0mself\u001b[0m\u001b[1;33m,\u001b[0m \u001b[0my\u001b[0m\u001b[1;33m)\u001b[0m\u001b[1;33m:\u001b[0m\u001b[1;33m\u001b[0m\u001b[1;33m\u001b[0m\u001b[0m\n",
      "\u001b[1;32m~\\Anaconda3\\lib\\site-packages\\matplotlib\\axis.py\u001b[0m in \u001b[0;36mconvert_units\u001b[1;34m(self, x)\u001b[0m\n\u001b[0;32m   1562\u001b[0m     \u001b[1;32mdef\u001b[0m \u001b[0mconvert_units\u001b[0m\u001b[1;33m(\u001b[0m\u001b[0mself\u001b[0m\u001b[1;33m,\u001b[0m \u001b[0mx\u001b[0m\u001b[1;33m)\u001b[0m\u001b[1;33m:\u001b[0m\u001b[1;33m\u001b[0m\u001b[1;33m\u001b[0m\u001b[0m\n\u001b[0;32m   1563\u001b[0m         \u001b[1;31m# If x is natively supported by Matplotlib, doesn't need converting\u001b[0m\u001b[1;33m\u001b[0m\u001b[1;33m\u001b[0m\u001b[1;33m\u001b[0m\u001b[0m\n\u001b[1;32m-> 1564\u001b[1;33m         \u001b[1;32mif\u001b[0m \u001b[0mmunits\u001b[0m\u001b[1;33m.\u001b[0m\u001b[0m_is_natively_supported\u001b[0m\u001b[1;33m(\u001b[0m\u001b[0mx\u001b[0m\u001b[1;33m)\u001b[0m\u001b[1;33m:\u001b[0m\u001b[1;33m\u001b[0m\u001b[1;33m\u001b[0m\u001b[0m\n\u001b[0m\u001b[0;32m   1565\u001b[0m             \u001b[1;32mreturn\u001b[0m \u001b[0mx\u001b[0m\u001b[1;33m\u001b[0m\u001b[1;33m\u001b[0m\u001b[0m\n\u001b[0;32m   1566\u001b[0m \u001b[1;33m\u001b[0m\u001b[0m\n",
      "\u001b[1;32m~\\Anaconda3\\lib\\site-packages\\matplotlib\\units.py\u001b[0m in \u001b[0;36m_is_natively_supported\u001b[1;34m(x)\u001b[0m\n\u001b[0;32m     64\u001b[0m     \u001b[1;32mif\u001b[0m \u001b[0mnp\u001b[0m\u001b[1;33m.\u001b[0m\u001b[0miterable\u001b[0m\u001b[1;33m(\u001b[0m\u001b[0mx\u001b[0m\u001b[1;33m)\u001b[0m\u001b[1;33m:\u001b[0m\u001b[1;33m\u001b[0m\u001b[1;33m\u001b[0m\u001b[0m\n\u001b[0;32m     65\u001b[0m         \u001b[1;31m# Assume lists are homogeneous as other functions in unit system.\u001b[0m\u001b[1;33m\u001b[0m\u001b[1;33m\u001b[0m\u001b[1;33m\u001b[0m\u001b[0m\n\u001b[1;32m---> 66\u001b[1;33m         \u001b[1;32mfor\u001b[0m \u001b[0mthisx\u001b[0m \u001b[1;32min\u001b[0m \u001b[0mx\u001b[0m\u001b[1;33m:\u001b[0m\u001b[1;33m\u001b[0m\u001b[1;33m\u001b[0m\u001b[0m\n\u001b[0m\u001b[0;32m     67\u001b[0m             \u001b[1;32mif\u001b[0m \u001b[0mthisx\u001b[0m \u001b[1;32mis\u001b[0m \u001b[0mma\u001b[0m\u001b[1;33m.\u001b[0m\u001b[0mmasked\u001b[0m\u001b[1;33m:\u001b[0m\u001b[1;33m\u001b[0m\u001b[1;33m\u001b[0m\u001b[0m\n\u001b[0;32m     68\u001b[0m                 \u001b[1;32mcontinue\u001b[0m\u001b[1;33m\u001b[0m\u001b[1;33m\u001b[0m\u001b[0m\n",
      "\u001b[1;32m~\\Anaconda3\\lib\\site-packages\\tensorflow\\python\\framework\\ops.py\u001b[0m in \u001b[0;36m__iter__\u001b[1;34m(self)\u001b[0m\n\u001b[0;32m    475\u001b[0m     \u001b[1;32mif\u001b[0m \u001b[1;32mnot\u001b[0m \u001b[0mcontext\u001b[0m\u001b[1;33m.\u001b[0m\u001b[0mexecuting_eagerly\u001b[0m\u001b[1;33m(\u001b[0m\u001b[1;33m)\u001b[0m\u001b[1;33m:\u001b[0m\u001b[1;33m\u001b[0m\u001b[1;33m\u001b[0m\u001b[0m\n\u001b[0;32m    476\u001b[0m       raise TypeError(\n\u001b[1;32m--> 477\u001b[1;33m           \u001b[1;34m\"Tensor objects are only iterable when eager execution is \"\u001b[0m\u001b[1;33m\u001b[0m\u001b[1;33m\u001b[0m\u001b[0m\n\u001b[0m\u001b[0;32m    478\u001b[0m           \"enabled. To iterate over this tensor use tf.map_fn.\")\n\u001b[0;32m    479\u001b[0m     \u001b[0mshape\u001b[0m \u001b[1;33m=\u001b[0m \u001b[0mself\u001b[0m\u001b[1;33m.\u001b[0m\u001b[0m_shape_tuple\u001b[0m\u001b[1;33m(\u001b[0m\u001b[1;33m)\u001b[0m\u001b[1;33m\u001b[0m\u001b[1;33m\u001b[0m\u001b[0m\n",
      "\u001b[1;31mTypeError\u001b[0m: Tensor objects are only iterable when eager execution is enabled. To iterate over this tensor use tf.map_fn."
     ]
    },
    {
     "data": {
      "image/png": "[encoded data removed]",
      "text/plain": [
       "<Figure size 432x288 with 1 Axes>"
      ]
     },
     "metadata": {
      "needs_background": "light"
     },
     "output_type": "display_data"
    }
   ],
   "source": [
    "import matplotlib.pyplot as plt\n",
    "# plt.rcParams['figure.facecolor'] = 'white'\n",
    "fig, ax = plt.subplots()\n",
    "# fig.patch.set_facecolor('white')\n",
    "i=0\n",
    "for color in ['black', 'blue']:\n",
    "    n = 750\n",
    "    x1, y1 = x[i],y[i]\n",
    "    \n",
    "#     scale = 200.0 * np.random.rand(n)\n",
    "    ax.scatter(x1, y1, c=color,  label='Class: '+str(i),\n",
    "               alpha=0.3, edgecolors='none')\n",
    "    i+=1\n",
    "\n",
    "ax.legend()\n",
    "ax.get_xaxis().set_visible(False)\n",
    "\n",
    "# ax.grid(True)\n",
    "\n",
    "plt.show()"
   ]
  },
  {
   "cell_type": "code",
   "execution_count": 90,
   "metadata": {},
   "outputs": [],
   "source": [
    "import seaborn as sns; #sns.set()\n",
    "# sns.set_style(\"dark\")"
   ]
  },
  {
   "cell_type": "code",
   "execution_count": 91,
   "metadata": {},
   "outputs": [
    {
     "data": {
      "image/png": "[encoded data removed]",
      "text/plain": [
       "<Figure size 432x288 with 1 Axes>"
      ]
     },
     "metadata": {},
     "output_type": "display_data"
    }
   ],
   "source": [
    "ax = sns.scatterplot(x=dot1_x, y=dot1_y)\n",
    "ax.set(xticklabels=[])\n",
    "ax.set(xlabel=None)\n",
    "ax.set_title('Class 0')\n",
    "plt.show()"
   ]
  },
  {
   "cell_type": "code",
   "execution_count": 92,
   "metadata": {},
   "outputs": [
    {
     "data": {
      "image/png": "[encoded data removed]",
      "text/plain": [
       "<Figure size 432x288 with 1 Axes>"
      ]
     },
     "metadata": {},
     "output_type": "display_data"
    }
   ],
   "source": [
    "ax = sns.scatterplot(x=dot2_x, y=dot2_y)\n",
    "ax.set(xticklabels=[])\n",
    "ax.set(xlabel=None)\n",
    "ax.set_title('Class 1')\n",
    "plt.show()"
   ]
  },
  {
   "cell_type": "code",
   "execution_count": null,
   "metadata": {
    "scrolled": true
   },
   "outputs": [],
   "source": [
    "print(x_test_deep[10].shape)\n",
    "plt.plot(x_test_deep[0])\n",
    "plt.show()"
   ]
  },
  {
   "cell_type": "code",
   "execution_count": null,
   "metadata": {
    "scrolled": false
   },
   "outputs": [],
   "source": [
    "print(decoded_stocks[10].shape)\n",
    "# print(decoded_stocks[0])\n",
    "plt.plot(decoded_stocks[0])\n",
    "plt.show()"
   ]
  },
  {
   "cell_type": "code",
   "execution_count": null,
   "metadata": {},
   "outputs": [],
   "source": []
  }
 ],
 "metadata": {
  "kernelspec": {
   "display_name": "Python 3",
   "language": "python",
   "name": "python3"
  },
  "language_info": {
   "codemirror_mode": {
    "name": "ipython",
    "version": 3
   },
   "file_extension": ".py",
   "mimetype": "text/x-python",
   "name": "python",
   "nbconvert_exporter": "python",
   "pygments_lexer": "ipython3",
   "version": "3.7.7"
  }
 },
 "nbformat": 4,
 "nbformat_minor": 4
}
