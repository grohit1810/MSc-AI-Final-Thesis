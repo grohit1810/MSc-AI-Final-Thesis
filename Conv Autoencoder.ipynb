{
 "cells": [
  {
   "cell_type": "code",
   "execution_count": 3,
   "metadata": {},
   "outputs": [
    {
     "name": "stdout",
     "output_type": "stream",
     "text": [
      "Populating the interactive namespace from numpy and matplotlib\n"
     ]
    }
   ],
   "source": [
    "from keras.layers import Input, Dense, Conv1D, MaxPooling1D, UpSampling1D, BatchNormalization, LSTM, RepeatVector\n",
    "from keras.models import Model\n",
    "from keras.models import model_from_json\n",
    "from keras.models import Sequential\n",
    "from keras import regularizers,layers\n",
    "import keras.backend as K\n",
    "import datetime\n",
    "import time\n",
    "import requests as req\n",
    "import json\n",
    "import pandas as pd\n",
    "import pickle\n",
    "import os\n",
    "import numpy as np\n",
    "from sklearn.preprocessing import MinMaxScaler\n",
    "from tqdm import tqdm\n",
    "from mpl_toolkits.mplot3d import Axes3D\n",
    "import matplotlib.pyplot as plt\n",
    "%pylab inline"
   ]
  },
  {
   "cell_type": "code",
   "execution_count": 4,
   "metadata": {},
   "outputs": [],
   "source": [
    "data = ['Dataset/HandOutlines_TRAIN', 'Dataset/HandOutlines_TEST']\n",
    "full_train_data = pd.read_csv(data[0], header = None)\n",
    "full_test_data = pd.read_csv(data[1], header = None)\n",
    "\n",
    "train_dataset = full_train_data.iloc[:,range(1,full_train_data.shape[1])] #traindatawithoutlabel\n",
    "label_test = full_train_data.iloc[:,0] #trainlabel\n",
    "\n",
    "test_dataset = full_test_data.iloc[:,range(1,full_test_data.shape[1])] #testdatawithoutlabel\n",
    "label_train = full_test_data.iloc[:,0] #testlabel\n",
    "\n",
    "train_dataset = train_dataset.values\n",
    "label_train = label_train.values\n",
    "\n",
    "test_dataset=test_dataset.values\n",
    "label_test=label_test.values\n",
    "\n",
    "test_data = np.expand_dims(test_dataset, axis=2)\n",
    "train_dataset = np.expand_dims(train_dataset, axis=2)"
   ]
  },
  {
   "cell_type": "code",
   "execution_count": 128,
   "metadata": {},
   "outputs": [],
   "source": [
    "file = open('Orig_wafer.pkl', 'wb')\n",
    "\n",
    "orig_info = {}\n",
    "orig_info['X_train'] = np.squeeze(test_data)\n",
    "orig_info['y_train'] = label_train\n",
    "orig_info['X_test'] = np.squeeze(train_dataset)\n",
    "orig_info['y_test'] = label_test\n",
    "\n",
    "# dump information to that file\n",
    "pickle.dump(orig_info, file)"
   ]
  },
  {
   "cell_type": "code",
   "execution_count": 6,
   "metadata": {},
   "outputs": [],
   "source": [
    "encoding_dim = 32\n",
    "window_length = train_dataset.shape[1]\n",
    "epochs = 15\n",
    "test_samples = train_dataset.shape[0]"
   ]
  },
  {
   "cell_type": "code",
   "execution_count": 9,
   "metadata": {
    "scrolled": false
   },
   "outputs": [
    {
     "name": "stdout",
     "output_type": "stream",
     "text": [
      "Model: \"model_6\"\n",
      "_________________________________________________________________\n",
      "Layer (type)                 Output Shape              Param #   \n",
      "=================================================================\n",
      "input_3 (InputLayer)         (None, 2709, 1)           0         \n",
      "_________________________________________________________________\n",
      "conv1d_11 (Conv1D)           (None, 2709, 32)          256       \n",
      "_________________________________________________________________\n",
      "max_pooling1d_5 (MaxPooling1 (None, 387, 32)           0         \n",
      "_________________________________________________________________\n",
      "conv1d_12 (Conv1D)           (None, 387, 1)            97        \n",
      "_________________________________________________________________\n",
      "max_pooling1d_6 (MaxPooling1 (None, 43, 1)             0         \n",
      "_________________________________________________________________\n",
      "conv1d_13 (Conv1D)           (None, 43, 1)             2         \n",
      "_________________________________________________________________\n",
      "up_sampling1d_5 (UpSampling1 (None, 387, 1)            0         \n",
      "_________________________________________________________________\n",
      "conv1d_14 (Conv1D)           (None, 387, 32)           64        \n",
      "_________________________________________________________________\n",
      "up_sampling1d_6 (UpSampling1 (None, 2709, 32)          0         \n",
      "_________________________________________________________________\n",
      "conv1d_15 (Conv1D)           (None, 2709, 1)           65        \n",
      "=================================================================\n",
      "Total params: 484\n",
      "Trainable params: 484\n",
      "Non-trainable params: 0\n",
      "_________________________________________________________________\n",
      "Train on 1000 samples, validate on 370 samples\n",
      "Epoch 1/120\n",
      "1000/1000 [==============================] - 39s 39ms/step - loss: 0.6931 - val_loss: 0.6926\n",
      "Epoch 2/120\n",
      "1000/1000 [==============================] - 6s 6ms/step - loss: 0.6926 - val_loss: 0.6921\n",
      "Epoch 3/120\n",
      "1000/1000 [==============================] - 5s 5ms/step - loss: 0.6921 - val_loss: 0.6916\n",
      "Epoch 4/120\n",
      "1000/1000 [==============================] - 5s 5ms/step - loss: 0.6916 - val_loss: 0.6911\n",
      "Epoch 5/120\n",
      "1000/1000 [==============================] - 5s 5ms/step - loss: 0.6911 - val_loss: 0.6907\n",
      "Epoch 6/120\n",
      "1000/1000 [==============================] - 5s 5ms/step - loss: 0.6907 - val_loss: 0.6902\n",
      "Epoch 7/120\n",
      "1000/1000 [==============================] - 6s 6ms/step - loss: 0.6902 - val_loss: 0.6897\n",
      "Epoch 8/120\n",
      "1000/1000 [==============================] - 8s 8ms/step - loss: 0.6897 - val_loss: 0.6892\n",
      "Epoch 9/120\n",
      "1000/1000 [==============================] - 9s 9ms/step - loss: 0.6892 - val_loss: 0.6887\n",
      "Epoch 10/120\n",
      "1000/1000 [==============================] - 8s 8ms/step - loss: 0.6887 - val_loss: 0.6882\n",
      "Epoch 11/120\n",
      "1000/1000 [==============================] - 8s 8ms/step - loss: 0.6882 - val_loss: 0.6877\n",
      "Epoch 12/120\n",
      "1000/1000 [==============================] - 8s 8ms/step - loss: 0.6877 - val_loss: 0.6872\n",
      "Epoch 13/120\n",
      "1000/1000 [==============================] - 7s 7ms/step - loss: 0.6872 - val_loss: 0.6867\n",
      "Epoch 14/120\n",
      "1000/1000 [==============================] - 8s 8ms/step - loss: 0.6867 - val_loss: 0.6862\n",
      "Epoch 15/120\n",
      "1000/1000 [==============================] - 5s 5ms/step - loss: 0.6862 - val_loss: 0.6857\n",
      "Epoch 16/120\n",
      "1000/1000 [==============================] - 5s 5ms/step - loss: 0.6857 - val_loss: 0.6852\n",
      "Epoch 17/120\n",
      "1000/1000 [==============================] - 6s 6ms/step - loss: 0.6852 - val_loss: 0.6847\n",
      "Epoch 18/120\n",
      "1000/1000 [==============================] - 5s 5ms/step - loss: 0.6847 - val_loss: 0.6842\n",
      "Epoch 19/120\n",
      "1000/1000 [==============================] - 6s 6ms/step - loss: 0.6842 - val_loss: 0.6837\n",
      "Epoch 20/120\n",
      "1000/1000 [==============================] - 7s 7ms/step - loss: 0.6837 - val_loss: 0.6832\n",
      "Epoch 21/120\n",
      "1000/1000 [==============================] - 6s 6ms/step - loss: 0.6832 - val_loss: 0.6827\n",
      "Epoch 22/120\n",
      "1000/1000 [==============================] - 7s 7ms/step - loss: 0.6827 - val_loss: 0.6822\n",
      "Epoch 23/120\n",
      "1000/1000 [==============================] - 6s 6ms/step - loss: 0.6822 - val_loss: 0.6817\n",
      "Epoch 24/120\n",
      "1000/1000 [==============================] - 7s 7ms/step - loss: 0.6817 - val_loss: 0.6812\n",
      "Epoch 25/120\n",
      "1000/1000 [==============================] - 8s 8ms/step - loss: 0.6812 - val_loss: 0.6807\n",
      "Epoch 26/120\n",
      "1000/1000 [==============================] - 6s 6ms/step - loss: 0.6807 - val_loss: 0.6802\n",
      "Epoch 27/120\n",
      "1000/1000 [==============================] - 7s 7ms/step - loss: 0.6802 - val_loss: 0.6798\n",
      "Epoch 28/120\n",
      "1000/1000 [==============================] - 6s 6ms/step - loss: 0.6798 - val_loss: 0.6793\n",
      "Epoch 29/120\n",
      "1000/1000 [==============================] - 7s 7ms/step - loss: 0.6793 - val_loss: 0.6788\n",
      "Epoch 30/120\n",
      "1000/1000 [==============================] - 7s 7ms/step - loss: 0.6788 - val_loss: 0.6783\n",
      "Epoch 31/120\n",
      "1000/1000 [==============================] - 6s 6ms/step - loss: 0.6783 - val_loss: 0.6778\n",
      "Epoch 32/120\n",
      "1000/1000 [==============================] - 6s 6ms/step - loss: 0.6778 - val_loss: 0.6773\n",
      "Epoch 33/120\n",
      "1000/1000 [==============================] - 6s 6ms/step - loss: 0.6773 - val_loss: 0.6768\n",
      "Epoch 34/120\n",
      "1000/1000 [==============================] - 6s 6ms/step - loss: 0.6768 - val_loss: 0.6763\n",
      "Epoch 35/120\n",
      "1000/1000 [==============================] - 6s 6ms/step - loss: 0.6763 - val_loss: 0.6758\n",
      "Epoch 36/120\n",
      "1000/1000 [==============================] - 6s 6ms/step - loss: 0.6758 - val_loss: 0.6753\n",
      "Epoch 37/120\n",
      "1000/1000 [==============================] - 6s 6ms/step - loss: 0.6753 - val_loss: 0.6749\n",
      "Epoch 38/120\n",
      "1000/1000 [==============================] - 6s 6ms/step - loss: 0.6749 - val_loss: 0.6744\n",
      "Epoch 39/120\n",
      "1000/1000 [==============================] - 6s 6ms/step - loss: 0.6744 - val_loss: 0.6739\n",
      "Epoch 40/120\n",
      "1000/1000 [==============================] - 6s 6ms/step - loss: 0.6739 - val_loss: 0.6734\n",
      "Epoch 41/120\n",
      "1000/1000 [==============================] - 6s 6ms/step - loss: 0.6734 - val_loss: 0.6729\n",
      "Epoch 42/120\n",
      "1000/1000 [==============================] - 5s 5ms/step - loss: 0.6729 - val_loss: 0.6724\n",
      "Epoch 43/120\n",
      "1000/1000 [==============================] - 6s 6ms/step - loss: 0.6724 - val_loss: 0.6719\n",
      "Epoch 44/120\n",
      "1000/1000 [==============================] - 6s 6ms/step - loss: 0.6719 - val_loss: 0.6714\n",
      "Epoch 45/120\n",
      "1000/1000 [==============================] - 6s 6ms/step - loss: 0.6714 - val_loss: 0.6710\n",
      "Epoch 46/120\n",
      "1000/1000 [==============================] - 6s 6ms/step - loss: 0.6710 - val_loss: 0.6705\n",
      "Epoch 47/120\n",
      "1000/1000 [==============================] - 6s 6ms/step - loss: 0.6705 - val_loss: 0.6700\n",
      "Epoch 48/120\n",
      "1000/1000 [==============================] - 6s 6ms/step - loss: 0.6700 - val_loss: 0.6695\n",
      "Epoch 49/120\n",
      "1000/1000 [==============================] - 6s 6ms/step - loss: 0.6695 - val_loss: 0.6690\n",
      "Epoch 50/120\n",
      "1000/1000 [==============================] - 8s 8ms/step - loss: 0.6690 - val_loss: 0.6685\n",
      "Epoch 51/120\n",
      "1000/1000 [==============================] - 6s 6ms/step - loss: 0.6685 - val_loss: 0.6680\n",
      "Epoch 52/120\n",
      "1000/1000 [==============================] - 6s 6ms/step - loss: 0.6680 - val_loss: 0.6676\n",
      "Epoch 53/120\n",
      "1000/1000 [==============================] - 6s 6ms/step - loss: 0.6676 - val_loss: 0.6671\n",
      "Epoch 54/120\n",
      "1000/1000 [==============================] - 7s 7ms/step - loss: 0.6671 - val_loss: 0.6666\n",
      "Epoch 55/120\n",
      "1000/1000 [==============================] - 6s 6ms/step - loss: 0.6666 - val_loss: 0.6661\n",
      "Epoch 56/120\n",
      "1000/1000 [==============================] - 6s 6ms/step - loss: 0.6661 - val_loss: 0.6656\n",
      "Epoch 57/120\n",
      "1000/1000 [==============================] - 6s 6ms/step - loss: 0.6656 - val_loss: 0.6652\n",
      "Epoch 58/120\n",
      "1000/1000 [==============================] - 6s 6ms/step - loss: 0.6652 - val_loss: 0.6647\n",
      "Epoch 59/120\n",
      "1000/1000 [==============================] - 6s 6ms/step - loss: 0.6647 - val_loss: 0.6642\n",
      "Epoch 60/120\n",
      "1000/1000 [==============================] - 6s 6ms/step - loss: 0.6642 - val_loss: 0.6637\n",
      "Epoch 61/120\n",
      "1000/1000 [==============================] - 6s 6ms/step - loss: 0.6637 - val_loss: 0.6632\n",
      "Epoch 62/120\n",
      "1000/1000 [==============================] - 5s 5ms/step - loss: 0.6632 - val_loss: 0.6628\n",
      "Epoch 63/120\n",
      "1000/1000 [==============================] - 5s 5ms/step - loss: 0.6628 - val_loss: 0.6623\n"
     ]
    },
    {
     "name": "stdout",
     "output_type": "stream",
     "text": [
      "Epoch 64/120\n",
      "1000/1000 [==============================] - 6s 6ms/step - loss: 0.6623 - val_loss: 0.6618\n",
      "Epoch 65/120\n",
      "1000/1000 [==============================] - 7s 7ms/step - loss: 0.6618 - val_loss: 0.6613\n",
      "Epoch 66/120\n",
      "1000/1000 [==============================] - 6s 6ms/step - loss: 0.6613 - val_loss: 0.6608\n",
      "Epoch 67/120\n",
      "1000/1000 [==============================] - 6s 6ms/step - loss: 0.6608 - val_loss: 0.6604\n",
      "Epoch 68/120\n",
      "1000/1000 [==============================] - 6s 6ms/step - loss: 0.6604 - val_loss: 0.6599\n",
      "Epoch 69/120\n",
      "1000/1000 [==============================] - 6s 6ms/step - loss: 0.6599 - val_loss: 0.6594\n",
      "Epoch 70/120\n",
      "1000/1000 [==============================] - 6s 6ms/step - loss: 0.6594 - val_loss: 0.6589\n",
      "Epoch 71/120\n",
      "1000/1000 [==============================] - 7s 7ms/step - loss: 0.6589 - val_loss: 0.6585\n",
      "Epoch 72/120\n",
      "1000/1000 [==============================] - 7s 7ms/step - loss: 0.6585 - val_loss: 0.6580\n",
      "Epoch 73/120\n",
      "1000/1000 [==============================] - 6s 6ms/step - loss: 0.6580 - val_loss: 0.6575\n",
      "Epoch 74/120\n",
      "1000/1000 [==============================] - 8s 8ms/step - loss: 0.6575 - val_loss: 0.6570\n",
      "Epoch 75/120\n",
      "1000/1000 [==============================] - 8s 8ms/step - loss: 0.6570 - val_loss: 0.6566\n",
      "Epoch 76/120\n",
      "1000/1000 [==============================] - 10s 10ms/step - loss: 0.6566 - val_loss: 0.6561\n",
      "Epoch 77/120\n",
      "1000/1000 [==============================] - 7s 7ms/step - loss: 0.6561 - val_loss: 0.6556\n",
      "Epoch 78/120\n",
      "1000/1000 [==============================] - 10s 10ms/step - loss: 0.6556 - val_loss: 0.6551\n",
      "Epoch 79/120\n",
      "1000/1000 [==============================] - 8s 8ms/step - loss: 0.6551 - val_loss: 0.6547\n",
      "Epoch 80/120\n",
      "1000/1000 [==============================] - 6s 6ms/step - loss: 0.6547 - val_loss: 0.6542\n",
      "Epoch 81/120\n",
      "1000/1000 [==============================] - 6s 6ms/step - loss: 0.6542 - val_loss: 0.6537\n",
      "Epoch 82/120\n",
      "1000/1000 [==============================] - 6s 6ms/step - loss: 0.6537 - val_loss: 0.6532\n",
      "Epoch 83/120\n",
      "1000/1000 [==============================] - 6s 6ms/step - loss: 0.6532 - val_loss: 0.6528\n",
      "Epoch 84/120\n",
      "1000/1000 [==============================] - 7s 7ms/step - loss: 0.6528 - val_loss: 0.6523\n",
      "Epoch 85/120\n",
      "1000/1000 [==============================] - 9s 9ms/step - loss: 0.6523 - val_loss: 0.6518\n",
      "Epoch 86/120\n",
      "1000/1000 [==============================] - 9s 9ms/step - loss: 0.6518 - val_loss: 0.6514\n",
      "Epoch 87/120\n",
      "1000/1000 [==============================] - 6s 6ms/step - loss: 0.6514 - val_loss: 0.6509\n",
      "Epoch 88/120\n",
      "1000/1000 [==============================] - 7s 7ms/step - loss: 0.6509 - val_loss: 0.6504\n",
      "Epoch 89/120\n",
      "1000/1000 [==============================] - 6s 6ms/step - loss: 0.6504 - val_loss: 0.6499\n",
      "Epoch 90/120\n",
      "1000/1000 [==============================] - 6s 6ms/step - loss: 0.6499 - val_loss: 0.6495\n",
      "Epoch 91/120\n",
      "1000/1000 [==============================] - 10s 10ms/step - loss: 0.6495 - val_loss: 0.6490\n",
      "Epoch 92/120\n",
      "1000/1000 [==============================] - 6s 6ms/step - loss: 0.6490 - val_loss: 0.6485\n",
      "Epoch 93/120\n",
      "1000/1000 [==============================] - 7s 7ms/step - loss: 0.6485 - val_loss: 0.6481\n",
      "Epoch 94/120\n",
      "1000/1000 [==============================] - 6s 6ms/step - loss: 0.6481 - val_loss: 0.6476\n",
      "Epoch 95/120\n",
      "1000/1000 [==============================] - 6s 6ms/step - loss: 0.6476 - val_loss: 0.6471\n",
      "Epoch 96/120\n",
      "1000/1000 [==============================] - 6s 6ms/step - loss: 0.6471 - val_loss: 0.6467\n",
      "Epoch 97/120\n",
      "1000/1000 [==============================] - 5s 5ms/step - loss: 0.6467 - val_loss: 0.6462\n",
      "Epoch 98/120\n",
      "1000/1000 [==============================] - 5s 5ms/step - loss: 0.6462 - val_loss: 0.6457\n",
      "Epoch 99/120\n",
      "1000/1000 [==============================] - 5s 5ms/step - loss: 0.6457 - val_loss: 0.6453\n",
      "Epoch 100/120\n",
      "1000/1000 [==============================] - 5s 5ms/step - loss: 0.6453 - val_loss: 0.6448\n",
      "Epoch 101/120\n",
      "1000/1000 [==============================] - 5s 5ms/step - loss: 0.6448 - val_loss: 0.6443\n",
      "Epoch 102/120\n",
      "1000/1000 [==============================] - 5s 5ms/step - loss: 0.6443 - val_loss: 0.6439\n",
      "Epoch 103/120\n",
      "1000/1000 [==============================] - 6s 6ms/step - loss: 0.6439 - val_loss: 0.6434\n",
      "Epoch 104/120\n",
      "1000/1000 [==============================] - 5s 5ms/step - loss: 0.6434 - val_loss: 0.6429\n",
      "Epoch 105/120\n",
      "1000/1000 [==============================] - 5s 5ms/step - loss: 0.6429 - val_loss: 0.6425\n",
      "Epoch 106/120\n",
      "1000/1000 [==============================] - 5s 5ms/step - loss: 0.6425 - val_loss: 0.6420\n",
      "Epoch 107/120\n",
      "1000/1000 [==============================] - 5s 5ms/step - loss: 0.6420 - val_loss: 0.6416\n",
      "Epoch 108/120\n",
      "1000/1000 [==============================] - 4s 4ms/step - loss: 0.6416 - val_loss: 0.6411\n",
      "Epoch 109/120\n",
      "1000/1000 [==============================] - 5s 5ms/step - loss: 0.6411 - val_loss: 0.6406\n",
      "Epoch 110/120\n",
      "1000/1000 [==============================] - 5s 5ms/step - loss: 0.6406 - val_loss: 0.6402\n",
      "Epoch 111/120\n",
      "1000/1000 [==============================] - 5s 5ms/step - loss: 0.6402 - val_loss: 0.6397\n",
      "Epoch 112/120\n",
      "1000/1000 [==============================] - 5s 5ms/step - loss: 0.6397 - val_loss: 0.6392\n",
      "Epoch 113/120\n",
      "1000/1000 [==============================] - 5s 5ms/step - loss: 0.6392 - val_loss: 0.6388\n",
      "Epoch 114/120\n",
      "1000/1000 [==============================] - 5s 5ms/step - loss: 0.6388 - val_loss: 0.6383\n",
      "Epoch 115/120\n",
      "1000/1000 [==============================] - 5s 5ms/step - loss: 0.6383 - val_loss: 0.6379\n",
      "Epoch 116/120\n",
      "1000/1000 [==============================] - 5s 5ms/step - loss: 0.6379 - val_loss: 0.6374\n",
      "Epoch 117/120\n",
      "1000/1000 [==============================] - 5s 5ms/step - loss: 0.6374 - val_loss: 0.6369\n",
      "Epoch 118/120\n",
      "1000/1000 [==============================] - 5s 5ms/step - loss: 0.6369 - val_loss: 0.6365\n",
      "Epoch 119/120\n",
      "1000/1000 [==============================] - 5s 5ms/step - loss: 0.6365 - val_loss: 0.6360\n",
      "Epoch 120/120\n",
      "1000/1000 [==============================] - 5s 5ms/step - loss: 0.6360 - val_loss: 0.6356\n"
     ]
    }
   ],
   "source": [
    "input_window = Input(shape=(window_length,1))\n",
    "x = Conv1D(32, 7, activation=\"relu\", padding=\"same\")(input_window) # 10 dims\n",
    "#x = BatchNormalization()(x)\n",
    "x = MaxPooling1D(7, padding=\"same\")(x) # 5 dims\n",
    "x = Conv1D(1, 3, activation=\"relu\", padding=\"same\")(x) # 5 dims\n",
    "#x = BatchNormalization()(x)\n",
    "encoded = MaxPooling1D(9, padding=\"same\")(x) # 3 dims\n",
    "\n",
    "encoder = Model(input_window, encoded)\n",
    "\n",
    "# 3 dimensions in the encoded layer\n",
    "\n",
    "x = Conv1D(1, 1, activation=\"relu\", padding=\"same\")(encoded) # 3 dims\n",
    "#x = BatchNormalization()(x)\n",
    "x = UpSampling1D(9)(x) # 6 dims\n",
    "x = Conv1D(32, 1, activation='relu')(x) # 5 dims\n",
    "#x = BatchNormalization()(x)\n",
    "x = UpSampling1D(7)(x) # 10 dims\n",
    "decoded = Conv1D(1, 2, activation='sigmoid', padding='same')(x) # 10 dims\n",
    "autoencoder = Model(input_window, decoded)\n",
    "autoencoder.summary()\n",
    "\n",
    "autoencoder.compile(optimizer='adam', loss='binary_crossentropy')\n",
    "history = autoencoder.fit(test_data, test_data,\n",
    "                epochs=120,\n",
    "                batch_size=1024,\n",
    "                shuffle=True,\n",
    "                validation_data=(train_dataset, train_dataset))\n",
    "\n",
    "\n",
    "\n",
    "\n",
    "\n",
    "decoded_stocks = autoencoder.predict(train_dataset)"
   ]
  },
  {
   "cell_type": "markdown",
   "metadata": {},
   "source": [
    "Conv Auto Encoder Reconstruction error : 0.36162702142010433"
   ]
  },
  {
   "cell_type": "code",
   "execution_count": 148,
   "metadata": {},
   "outputs": [
    {
     "name": "stdout",
     "output_type": "stream",
     "text": [
      "(36, 343, 1) (36, 343, 1)\n",
      "0.4812057950921338\n"
     ]
    }
   ],
   "source": [
    "print(decoded_stocks.shape,train_dataset.shape)\n",
    "# print(np.absolute(x_test_deep[0]))\n",
    "# print(np.absolute(decoded_stocks[0]))\n",
    "# print(len(x_test_deep[0]))\n",
    "def repr_error(actual, predicted):\n",
    "    final_err = 0\n",
    "    for i in range(len(actual)):\n",
    "        err = np.sum(np.absolute(np.absolute(actual[i]) - np.absolute(predicted[i])))\n",
    "        err = err / len(actual[i])\n",
    "        final_err += err\n",
    "    final_err = final_err / len(actual)\n",
    "    return final_err\n",
    "# final_test = np.sum(np.absolute(np.absolute(x_test_deep[0]) - np.absolute(decoded_stocks[0])))\n",
    "# print(final_test/150)\n",
    "print(repr_error(train_dataset, decoded_stocks))"
   ]
  },
  {
   "cell_type": "code",
   "execution_count": 188,
   "metadata": {},
   "outputs": [],
   "source": [
    "import pickle\n",
    "# open a file, where you ant to store the data\n",
    "file = open('Conv_wafer.pkl', 'wb')\n",
    "\n",
    "# dump information to that file\n",
    "pickle.dump(autoencoder, file)"
   ]
  },
  {
   "cell_type": "code",
   "execution_count": 162,
   "metadata": {},
   "outputs": [],
   "source": [
    "autoencoder.layers[4].name = \"embed_0\"\n",
    "layer_output=autoencoder.get_layer('embed_0').output\n",
    "intermediate_model=Model(inputs=autoencoder.input,outputs=layer_output)\n",
    "intermediate_prediction=intermediate_model.predict(train_dataset)\n"
   ]
  },
  {
   "cell_type": "code",
   "execution_count": 163,
   "metadata": {},
   "outputs": [],
   "source": [
    "latent_test = np.squeeze(intermediate_prediction)\n"
   ]
  },
  {
   "cell_type": "code",
   "execution_count": 164,
   "metadata": {},
   "outputs": [],
   "source": [
    "intermediate_prediction=intermediate_model.predict(test_data)\n",
    "latent_train = np.squeeze(intermediate_prediction)\n"
   ]
  },
  {
   "cell_type": "code",
   "execution_count": 165,
   "metadata": {},
   "outputs": [],
   "source": [
    "file = open('Latent_toesegmentation2.pkl', 'wb')\n",
    "\n",
    "latent_info = {}\n",
    "latent_info['X_train'] = latent_train\n",
    "latent_info['y_train'] = label_train\n",
    "latent_info['X_test'] = latent_test\n",
    "latent_info['y_test'] = label_test\n",
    "\n",
    "# dump information to that file\n",
    "pickle.dump(latent_info, file)"
   ]
  },
  {
   "cell_type": "code",
   "execution_count": 161,
   "metadata": {},
   "outputs": [
    {
     "name": "stdout",
     "output_type": "stream",
     "text": [
      "(343, 1)\n"
     ]
    },
    {
     "data": {
      "image/png": "[encoded data removed]",
      "text/plain": [
       "<Figure size 432x288 with 1 Axes>"
      ]
     },
     "metadata": {
      "needs_background": "light"
     },
     "output_type": "display_data"
    }
   ],
   "source": [
    "print(train_dataset[0].shape)\n",
    "plt.plot(train_dataset[15])\n",
    "plt.show()"
   ]
  },
  {
   "cell_type": "code",
   "execution_count": 158,
   "metadata": {},
   "outputs": [
    {
     "name": "stdout",
     "output_type": "stream",
     "text": [
      "(7,)\n"
     ]
    },
    {
     "data": {
      "image/png": "[encoded data removed]",
      "text/plain": [
       "<Figure size 432x288 with 1 Axes>"
      ]
     },
     "metadata": {
      "needs_background": "light"
     },
     "output_type": "display_data"
    }
   ],
   "source": [
    "# print(latent_train[0])\n",
    "print(latent_train[0].shape)\n",
    "plt.plot(latent_train[15])\n",
    "plt.show()"
   ]
  },
  {
   "cell_type": "code",
   "execution_count": 104,
   "metadata": {},
   "outputs": [],
   "source": [
    "file = open('Latent_wafer.pkl', 'wb')\n",
    "# dump information to that file\n",
    "pickle.dump(latent_info, file)"
   ]
  }
 ],
 "metadata": {
  "kernelspec": {
   "display_name": "Python 3",
   "language": "python",
   "name": "python3"
  },
  "language_info": {
   "codemirror_mode": {
    "name": "ipython",
    "version": 3
   },
   "file_extension": ".py",
   "mimetype": "text/x-python",
   "name": "python",
   "nbconvert_exporter": "python",
   "pygments_lexer": "ipython3",
   "version": "3.7.7"
  }
 },
 "nbformat": 4,
 "nbformat_minor": 4
}
